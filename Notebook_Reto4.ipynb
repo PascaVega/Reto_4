{
 "cells": [
  {
   "cell_type": "markdown",
   "metadata": {},
   "source": [
    "Parte 1"
   ]
  },
  {
   "cell_type": "code",
   "execution_count": 1,
   "metadata": {},
   "outputs": [
    {
     "name": "stdout",
     "output_type": "stream",
     "text": [
      "Programa para determinar si un número entero corresponde al código ASCII de una vocal minúscula\n",
      "El número 54, NO corresponde a una vocal minuscula del código ASCII\n",
      "El número 97, SÍ corresponde a una vocal minuscula del código ASCII\n"
     ]
    }
   ],
   "source": [
    "#RETO 4 - Parte 1\n",
    "#Dado un número entero, determinar si ese número corresponde al código ASCII de una vocal minúscula.\n",
    "#'a': 97 - 'e': 101 - 'i': 105 - 'o': 111 - 'u': 117\n",
    "\n",
    "def introducir():\n",
    "    numero = int(input(\"Ingrese un número para verificar si corresponde al código ASCII (digitos): \"))\n",
    "    verificar(numero)\n",
    "    return\n",
    "\n",
    "def verificar(numero):\n",
    "    datos = {97,101,105,111,117}\n",
    "    if numero in datos:\n",
    "        print(f\"El número {numero}, SÍ corresponde a una vocal minuscula del código ASCII\")\n",
    "        \n",
    "    else:\n",
    "        print(f\"El número {numero}, NO corresponde a una vocal minuscula del código ASCII\")\n",
    "        \n",
    "def continuar():\n",
    "    opcion = int(input(\"¿Desea continuar verificando números? Marque 1 (sí) o 2 (no): \"))\n",
    "    return opcion\n",
    "\n",
    "print(\"Programa para determinar si un número entero corresponde al código ASCII de una vocal minúscula\")\n",
    "\n",
    "while True:\n",
    "    introducir()\n",
    "    opcion = continuar()\n",
    "    if opcion == 2:\n",
    "        break  \n",
    "\n",
    "# ! /\\|=\\/"
   ]
  },
  {
   "cell_type": "markdown",
   "metadata": {},
   "source": [
    "Parte 2"
   ]
  },
  {
   "cell_type": "code",
   "execution_count": null,
   "metadata": {},
   "outputs": [],
   "source": [
    "#RETO 4 - Parte 2\n",
    "#Dada una cadena de longitud 1, determine si el código ASCII de primera letra de la cadena es par o no.\n",
    " \n",
    "def introducir():\n",
    "    palabra = input(\"Ingrese una palabra: \")\n",
    "    determinar(palabra)\n",
    "    return\n",
    "\n",
    "def determinar(palabra):\n",
    "    letra = palabra[0]\n",
    "    codigo = ord(letra)\n",
    "    if codigo % 2 == 0:\n",
    "        print(\"La primera letra de la cadena es PAR\")\n",
    "    else:\n",
    "        print(\"La primera letra de la cadena es IMPAR\")\n",
    "\n",
    "def continuar():\n",
    "    opcion = int(input(\"¿Desea continuar? Marque 1 (sí) o 2 (no): \"))\n",
    "    return opcion\n",
    "\n",
    "print(\"Programa para determinar si la primera letra de la cadena es par o no en el código ASCII.\")\n",
    "\n",
    "while True:\n",
    "    introducir()\n",
    "    opcion = continuar()\n",
    "    if opcion == 2:\n",
    "        break  \n",
    "\n",
    "# ! /\\|=\\/"
   ]
  },
  {
   "cell_type": "markdown",
   "metadata": {},
   "source": [
    "Parte 3"
   ]
  },
  {
   "cell_type": "code",
   "execution_count": null,
   "metadata": {},
   "outputs": [],
   "source": [
    "#RETO 4 - Parte 3\n",
    "#Dado un carácter, construya un programa en Python para determinar si el caracter es un dígito o no.\n",
    "\n",
    "def introducir():\n",
    "    caracter = input(\"Ingrese un caracter: \")\n",
    "    determinar(caracter)\n",
    "    return\n",
    "\n",
    "def determinar(caracter):\n",
    "    num_caracter = ord(caracter)\n",
    "    if 128 > num_caracter:\n",
    "        print(f\"El caracter {caracter} está en la ISCII\")\n",
    "    else:\n",
    "        print(f\"El caracter {caracter} no está en la ISCII\")\n",
    "    \n",
    "\n",
    "def continuar():\n",
    "    opcion = int(input(\"¿Desea continuar? Marque 1 (sí) o 2 (no): \"))\n",
    "    return opcion\n",
    "\n",
    "print(\"Programa para determinar si un caracter es un digito o no\")\n",
    "\n",
    "while True:\n",
    "    introducir()\n",
    "    opcion = continuar()\n",
    "    if opcion == 2:\n",
    "        break  \n",
    "\n",
    "# ! /\\|=\\/"
   ]
  },
  {
   "cell_type": "markdown",
   "metadata": {},
   "source": [
    "Parte 4"
   ]
  },
  {
   "cell_type": "code",
   "execution_count": null,
   "metadata": {},
   "outputs": [],
   "source": [
    "#RETO 4 - Parte 4\n",
    "#Dado un número real x, construya un programa que permita determinar si el número es positivo, negativo o cero.\n",
    "\n",
    "def introducir():\n",
    "    numero = float(input(\"Ingrese un número (digitos): \"))\n",
    "    determinar(numero)\n",
    "    return\n",
    "\n",
    "def determinar(numero):\n",
    "    if numero == 0:\n",
    "        print(f\"El número {numero} es el neutro para la suma.\")\n",
    "    elif numero > 0:\n",
    "        print(f\"El numero {numero} es positivo.\")\n",
    "    elif numero < 0:\n",
    "        print(f\"El numero {numero} es negativo.\")\n",
    "    else:\n",
    "        print(f\"El {numero} es invalido\")\n",
    "        introducir()\n",
    "\n",
    "def continuar():\n",
    "    opcion = int(input(\"¿Desea continuar? Marque 1 (sí) o 2 (no): \"))\n",
    "    return opcion\n",
    "\n",
    "print(\"Programa para determinar si un número es PAR o IMPAR\")\n",
    "\n",
    "while True:\n",
    "    introducir()\n",
    "    opcion = continuar ()\n",
    "    if opcion == 2:\n",
    "        break\n",
    "\n",
    "# ! /\\|=\\/"
   ]
  },
  {
   "cell_type": "markdown",
   "metadata": {},
   "source": [
    "Parte 5"
   ]
  },
  {
   "cell_type": "code",
   "execution_count": null,
   "metadata": {},
   "outputs": [],
   "source": [
    "#RETO 4 - Parte 5\n",
    "#Dado el centro y el radio de un círculo, determinar si un punto de R2 pertenece o no al interior del círculo.\n",
    "import math\n",
    "\n",
    "def introducir():\n",
    "    centro = input(\"Introduzca las coordenadas del centro del círculo. Ejemplo: 2,2 : \")\n",
    "    radio = float(input(\"Introduzca el radio del cícurlo. Ejemplo: 2 : \"))\n",
    "    punto = input(\"Introduzca las coordenadas del punto. Ejemplo: 2,2 : \")\n",
    "    determinar(centro, radio, punto)\n",
    "    return\n",
    "    \n",
    "\n",
    "def determinar(centro, radio, punto):\n",
    "    centro_X , centro_Y = map(float, centro.split(\",\"))\n",
    "    punto_X , punto_Y = map(float, punto.split(\",\"))\n",
    "    distancia = math.sqrt(((centro_X - punto_X)**2) + ((centro_Y - punto_Y)**2))\n",
    "    if distancia <= radio:\n",
    "        print(f\"El punto {punto} sí está dentro del círculo\")\n",
    "    else:\n",
    "        print(f\"El punto {punto} no está dentro del círculo\")\n",
    "\n",
    "def continuar():\n",
    "    opcion = int(input(\"¿Desea continuar? Marque 1 (sí) o 2 (no): \"))\n",
    "    return opcion\n",
    "\n",
    "print(\"Programa para determinar si un punto está dentro del área de un círculo\")\n",
    "\n",
    "while True:\n",
    "    introducir()\n",
    "    opcion = continuar()\n",
    "    if opcion == 2:\n",
    "        break\n",
    "\n",
    "# ! /\\|=\\/"
   ]
  },
  {
   "cell_type": "markdown",
   "metadata": {},
   "source": [
    "Parte 6"
   ]
  },
  {
   "cell_type": "code",
   "execution_count": null,
   "metadata": {},
   "outputs": [],
   "source": [
    "#RETO 4 - Parte 6\n",
    "#Dadas tres longitudes positivas, determinar si con esas longitudes se puede construir un triángulo.\n",
    "\n",
    "def introducir():\n",
    "    distancia_1 = float(input(\"Introduzca la primera distancia (digitos): \"))\n",
    "    distancia_2 = float(input(\"Introduzca la segunda distancia (digitos): \"))\n",
    "    distancia_3 = float(input(\"Introduzca la tercera distancia (digitos): \"))\n",
    "    determinar(distancia_1, distancia_2, distancia_3)\n",
    "    return\n",
    "\n",
    "def determinar(distancia_1, distancia_2, distancia_3):\n",
    "    mayor = max(distancia_1, distancia_2, distancia_3)\n",
    "    menor = min(distancia_1, distancia_2, distancia_3)\n",
    "    if distancia_1 != mayor and distancia_1 != menor:\n",
    "        medio = distancia_1\n",
    "    elif distancia_2 != mayor and distancia_2 != menor:\n",
    "        medio = distancia_2\n",
    "    else:\n",
    "        medio = distancia_3\n",
    "\n",
    "\n",
    "    if menor + medio > mayor:\n",
    "        print(f\"SÍ es posible contruir un triangulo de medidas {distancia_1, distancia_2, distancia_3}\")\n",
    "    elif menor == medio == mayor:\n",
    "        print(f\"SÍ es posible contruir un triangulo de medidas {distancia_1, distancia_2, distancia_3}\")\n",
    "    else:\n",
    "        print(f\"NO es posible contruir un triangulo de medidas {distancia_1, distancia_2, distancia_3}\")\n",
    "\n",
    "def continuar():\n",
    "    opcion = int(input(\"¿Desea continuar? Marque 1 (sí) o 2 (no): \"))\n",
    "    return opcion\n",
    "\n",
    "print(\"Programa para determinar si es posible la construcción de un triángulo a partir de las medidas de los lados.\")\n",
    "\n",
    "while True:\n",
    "    introducir()\n",
    "    opcion = continuar()\n",
    "    if opcion == 2:\n",
    "        break\n",
    "\n",
    "# ! /\\|=\\/"
   ]
  }
 ],
 "metadata": {
  "kernelspec": {
   "display_name": "Python 3",
   "language": "python",
   "name": "python3"
  },
  "language_info": {
   "codemirror_mode": {
    "name": "ipython",
    "version": 3
   },
   "file_extension": ".py",
   "mimetype": "text/x-python",
   "name": "python",
   "nbconvert_exporter": "python",
   "pygments_lexer": "ipython3",
   "version": "3.12.2"
  }
 },
 "nbformat": 4,
 "nbformat_minor": 2
}
